{
 "cells": [
  {
   "cell_type": "code",
   "execution_count": 37,
   "metadata": {},
   "outputs": [],
   "source": [
    "import numpy as np\n",
    "class Library:\n",
    "    def __init__(self, users_name_file, books_name_file, borrowing_history_filename = None):\n",
    "        import numpy as np\n",
    "        self.users = []\n",
    "        self.books = []\n",
    "        self.users_dict = {}\n",
    "        self.books_dict = {}\n",
    "        try:\n",
    "            self.load_borrowing_history(borrowing_history_filename)\n",
    "        except FileNotFoundError as e:\n",
    "            self.users_borrowing_history = {}\n",
    "        self.get_users(users_name_file)\n",
    "        self.get_books(books_name_file)\n",
    "            \n",
    "    # function to read users from a text file\n",
    "    def get_users(self, filename):\n",
    "        with open (filename, 'r') as users_file:\n",
    "            for user in users_file:\n",
    "                self.users.append(user.rstrip())\n",
    "                self.users_dict[user.rstrip()] = []\n",
    "                self.users_borrowing_history[user.rstrip()] = []\n",
    "\n",
    "    # function to read books from a text file\n",
    "    def get_books(self, filename):\n",
    "        with open (filename, 'r') as books_file:\n",
    "            for book in books_file:\n",
    "                self.books.append(book.rstrip())\n",
    "                self.books_dict[book.rstrip()] = ''    \n",
    "    \n",
    "    # function for printing users\n",
    "    def print_users(self):\n",
    "        print([user for user in self.users])\n",
    "        \n",
    "    # function for printing books\n",
    "    def print_books(self):\n",
    "        print([book for book in self.books])\n",
    "\n",
    "    # function for adding users\n",
    "    def add_user(self, username):\n",
    "        self.users.append(username)\n",
    "        self.users_dict[username] = []\n",
    "        self.users_borrowing_history[username] = []\n",
    "        \n",
    "    # function for adding books\n",
    "    def add_book(self, book_name):\n",
    "        self.books.append(book_name)\n",
    "        self.books_dict[book_name] = ''\n",
    "\n",
    "    # function for printing users borrowing history\n",
    "    def print_users_borrowing_history(self):\n",
    "        for username, book_names in self.users_borrowing_history.items():\n",
    "            print(username)\n",
    "            print(book_names)\n",
    "\n",
    "    # function for checking if the user exist or not registered\n",
    "    def check_user_in_library(self, username):\n",
    "        if username in self.users:\n",
    "            return True\n",
    "        else:\n",
    "            raise ValueError(\"sorry this user doesn't register in library\")\n",
    "        \n",
    "    # function for checking if the book exist or borrowed\n",
    "    def check_book_in_library(self, book_name):\n",
    "        if book_name in self.books:\n",
    "            return True\n",
    "        else:\n",
    "            raise ValueError(\"sorry this book doesn't exist in library books or it has been borrowed\")\n",
    "\n",
    "    # function for checking that a user doesn't borrow a book twice\n",
    "    def check_user_has_the_book(self, username, book_name, borrow_mode = False):\n",
    "        if borrow_mode:\n",
    "            if book_name not in self.users_dict[username]:\n",
    "                return True\n",
    "            raise ValueError(\"sorry this user has the book\")\n",
    "        else:\n",
    "            if book_name in self.users_dict[username]:\n",
    "                return True\n",
    "            raise ValueError(\"sorry this user has returned the book\")\n",
    "\n",
    "    # function for borrowing books\n",
    "    def borrow_books(self, username, book_name):\n",
    "        if self.check_user_has_the_book(username, book_name, True):\n",
    "            if self.check_user_in_library(username) and self.check_book_in_library(book_name):\n",
    "                self.users_dict[username].append(book_name)\n",
    "                self.users_borrowing_history[username].append(book_name)\n",
    "                self.books_dict[book_name] = username\n",
    "                self.books.remove(book_name)\n",
    "\n",
    "    # function for returning books\n",
    "    def return_books(self, username, book_name):\n",
    "        if self.check_user_in_library(username):\n",
    "            if self.check_user_has_the_book(username, book_name):\n",
    "                self.users_dict[username].remove(book_name)\n",
    "                self.books_dict[book_name] = ''\n",
    "                self.books.append(book_name)\n",
    "\n",
    "    # function for saving borrowing history\n",
    "    def save_borrowing_history(self, filename):\n",
    "        np.save('{}.npy'.format(filename), self.users_borrowing_history)\n",
    "        \n",
    "    # function for loading borrowing history\n",
    "    def load_borrowing_history(self, filename):\n",
    "        self.users_borrowing_history = np.load('{}.npy'.format(filename))"
   ]
  },
  {
   "cell_type": "code",
   "execution_count": 40,
   "metadata": {},
   "outputs": [
    {
     "name": "stdout",
     "output_type": "stream",
     "text": [
      "['Aria Hosseini', 'Shabnam Farokhi', 'Reza Khorami', 'Melika Jahani']\n"
     ]
    }
   ],
   "source": [
    "model = Library('users.txt', 'books.txt')\n",
    "# model.get_books('farsi_books.txt')\n",
    "# model.get_users('farsi_users.txt')\n",
    "model.print_users()\n",
    "model.print_books()\n",
    "# # model.borrow_books('Aria Hosseini', 'Jang va Solh')\n",
    "# model.borrow_books('Shabnam Farokhi', 'Honar Jang')\n",
    "# print(model.users_dict)\n",
    "# print(model.books_dict)\n",
    "# print(model.print_users_borrowing_history())\n",
    "# model.return_books('Aria Hosseini', 'Jang va Solh')\n",
    "# print(model.books)\n",
    "# print(model.users_dict)\n",
    "# print(model.books_dict)"
   ]
  },
  {
   "cell_type": "code",
   "execution_count": 23,
   "metadata": {},
   "outputs": [
    {
     "name": "stdout",
     "output_type": "stream",
     "text": [
      "['آريا حسيني', 'شبنم فرخي', 'رضا خرمي', 'مليکا جهاني', 'Danial Salehi']\n",
      "['سفر به اعماق دريا', 'جنگ و صلح', 'قدرت عادت', 'اثر مرکب', 'ghodrate bayan']\n",
      "{'آريا حسيني': [], 'شبنم فرخي': [], 'رضا خرمي': [], 'مليکا جهاني': [], 'Danial Salehi': ['ghodrate bayan']}\n",
      "{'سفر به اعماق دريا': '', 'جنگ و صلح': '', 'قدرت عادت': '', 'اثر مرکب': '', 'ghodrate bayan': 'Danial Salehi'}\n"
     ]
    }
   ],
   "source": [
    "model.add_user('Danial Salehi')\n",
    "model.add_book('ghodrate bayan')\n",
    "model.print_users()\n",
    "model.print_books()\n",
    "model.borrow_books('Danial Salehi', 'ghodrate bayan')\n",
    "print(model.users_dict)\n",
    "print(model.books_dict)"
   ]
  },
  {
   "cell_type": "code",
   "execution_count": 19,
   "metadata": {},
   "outputs": [],
   "source": [
    "model.save_borrowing_history('borrowing_history')"
   ]
  }
 ],
 "metadata": {
  "kernelspec": {
   "display_name": "Python 3",
   "language": "python",
   "name": "python3"
  },
  "language_info": {
   "codemirror_mode": {
    "name": "ipython",
    "version": 3
   },
   "file_extension": ".py",
   "mimetype": "text/x-python",
   "name": "python",
   "nbconvert_exporter": "python",
   "pygments_lexer": "ipython3",
   "version": "3.6.3"
  }
 },
 "nbformat": 4,
 "nbformat_minor": 2
}
