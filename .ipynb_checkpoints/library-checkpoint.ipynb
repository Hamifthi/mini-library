{
 "cells": [
  {
   "cell_type": "code",
   "execution_count": 18,
   "metadata": {},
   "outputs": [],
   "source": [
    "import numpy as np\n",
    "class Library:\n",
    "    def __init__(self, filename = None):\n",
    "        import numpy as np\n",
    "        self.users = []\n",
    "        self.books = []\n",
    "        self.users_dict = {}\n",
    "        self.books_dict = {}\n",
    "        try:\n",
    "            self.load_borrowing_history(filename)\n",
    "        except FileNotFoundError as e:\n",
    "            self.users_borrowing_history = {}\n",
    "        self.get_users()\n",
    "        self.get_books()\n",
    "            \n",
    "    def get_users(self):\n",
    "        with open ('users.txt', 'r') as users_file:\n",
    "            for user in users_file:\n",
    "                self.users.append(user.rstrip())\n",
    "                self.users_dict[user.rstrip()] = []\n",
    "                self.users_borrowing_history[user.rstrip()] = []\n",
    "                \n",
    "    def get_books(self):\n",
    "        with open ('books.txt', 'r') as books_file:\n",
    "            for book in books_file:\n",
    "                self.books.append(book.rstrip())\n",
    "                self.books_dict[book.rstrip()] = ''\n",
    "    \n",
    "    def print_users(self):\n",
    "        print([user for user in self.users])\n",
    "        \n",
    "    def print_books(self):\n",
    "        print([book for book in self.books])\n",
    "    \n",
    "    def add_user(self, username):\n",
    "        self.users.append(username)\n",
    "        self.users_dict[username] = []\n",
    "        self.users_borrowing_history[username] = []\n",
    "        \n",
    "    def add_book(self, book_name):\n",
    "        self.books.append(book_name)\n",
    "        self.books_dict[book_name] = ''\n",
    "        \n",
    "    def print_users_borrowing_history(self):\n",
    "        for username, book_names in self.users_borrowing_history.items():\n",
    "            print(username)\n",
    "            print(book_names)\n",
    "\n",
    "    def check_user_in_library(self, username):\n",
    "        if username in self.users:\n",
    "            return True\n",
    "        else:\n",
    "            raise ValueError(\"sorry this user doesn't register in library\")\n",
    "        \n",
    "    def check_book_in_library(self, book_name):\n",
    "        if book_name in self.books:\n",
    "            return True\n",
    "        else:\n",
    "            raise ValueError(\"sorry this book doesn't exist in library books or it has been borrowed\")\n",
    "            \n",
    "    def check_user_has_the_book(self, username, book_name, borrow_mode = False):\n",
    "        if borrow_mode:\n",
    "            if book_name not in self.users_dict[username]:\n",
    "                return True\n",
    "            raise ValueError(\"sorry this user has the book\")\n",
    "        else:\n",
    "            if book_name in self.users_dict[username]:\n",
    "                return True\n",
    "            raise ValueError(\"sorry this user has returned the book\")\n",
    "        \n",
    "    def borrow_books(self, username, book_name):\n",
    "        if self.check_user_has_the_book(username, book_name, True):\n",
    "            if self.check_user_in_library(username) and self.check_book_in_library(book_name):\n",
    "                self.users_dict[username].append(book_name)\n",
    "                self.users_borrowing_history[username].append(book_name)\n",
    "                self.books_dict[book_name] = username\n",
    "                self.books.remove(book_name)\n",
    "            \n",
    "    def return_books(self, username, book_name):\n",
    "        if self.check_user_in_library(username):\n",
    "            if self.check_user_has_the_book(username, book_name):\n",
    "                self.users_dict[username].remove(book_name)\n",
    "                self.books_dict[book_name] = ''\n",
    "                self.books.append(book_name)\n",
    "                \n",
    "    def save_borrowing_history(self, filename):\n",
    "        np.save('{}.npy'.format(filename), self.users_borrowing_history)\n",
    "        \n",
    "    def load_borrowing_history(self, filename):\n",
    "        self.users_borrowing_history = np.load('{}.npy'.format(filename))"
   ]
  },
  {
   "cell_type": "code",
   "execution_count": 23,
   "metadata": {},
   "outputs": [
    {
     "name": "stdout",
     "output_type": "stream",
     "text": [
      "{'Aria Hosseini': ['Jang va Solh'], 'Shabnam Farokhi': ['Honar Jang'], 'Reza Khorami': [], 'Melika Jahani': []}\n",
      "{'Safar be Amaghe Darya': '', 'Jang va Solh': 'Aria Hosseini', 'Honar Jang': 'Shabnam Farokhi', 'Ghodrat Adat': ''}\n",
      "Aria Hosseini\n",
      "['Jang va Solh']\n",
      "Shabnam Farokhi\n",
      "['Honar Jang']\n",
      "Reza Khorami\n",
      "[]\n",
      "Melika Jahani\n",
      "[]\n",
      "None\n",
      "['Safar be Amaghe Darya', 'Ghodrat Adat', 'Jang va Solh']\n",
      "{'Aria Hosseini': [], 'Shabnam Farokhi': ['Honar Jang'], 'Reza Khorami': [], 'Melika Jahani': []}\n",
      "{'Safar be Amaghe Darya': '', 'Jang va Solh': '', 'Honar Jang': 'Shabnam Farokhi', 'Ghodrat Adat': ''}\n"
     ]
    }
   ],
   "source": [
    "model = Library()\n",
    "model.print_users()\n",
    "model.print_books()\n",
    "model.borrow_books('Aria Hosseini', 'Jang va Solh')\n",
    "# model.borrow_books('Aria Hosseini', 'Jang va Solh')\n",
    "model.borrow_books('Shabnam Farokhi', 'Honar Jang')\n",
    "print(model.users_dict)\n",
    "print(model.books_dict)\n",
    "print(model.print_users_borrowing_history())\n",
    "model.return_books('Aria Hosseini', 'Jang va Solh')\n",
    "print(model.books)\n",
    "print(model.users_dict)\n",
    "print(model.books_dict)"
   ]
  },
  {
   "cell_type": "code",
   "execution_count": 26,
   "metadata": {},
   "outputs": [
    {
     "name": "stdout",
     "output_type": "stream",
     "text": [
      "{'Aria Hosseini': [], 'Shabnam Farokhi': ['Honar Jang'], 'Reza Khorami': [], 'Melika Jahani': [], 'Danial Salehi': ['ghodrate bayan']}\n",
      "{'Safar be Amaghe Darya': '', 'Jang va Solh': '', 'Honar Jang': 'Shabnam Farokhi', 'Ghodrat Adat': '', 'ghodrate bayan': 'Danial Salehi'}\n"
     ]
    }
   ],
   "source": [
    "model.add_user('Danial Salehi')\n",
    "model.add_book('ghodrate bayan')\n",
    "model.print_users()\n",
    "model.print_books()\n",
    "model.borrow_books('Danial Salehi', 'ghodrate bayan')\n",
    "print(model.users_dict)\n",
    "print(model.books_dict)"
   ]
  },
  {
   "cell_type": "code",
   "execution_count": 19,
   "metadata": {},
   "outputs": [],
   "source": [
    "model.save_borrowing_history('borrowing_history')"
   ]
  }
 ],
 "metadata": {
  "kernelspec": {
   "display_name": "Python 3",
   "language": "python",
   "name": "python3"
  },
  "language_info": {
   "codemirror_mode": {
    "name": "ipython",
    "version": 3
   },
   "file_extension": ".py",
   "mimetype": "text/x-python",
   "name": "python",
   "nbconvert_exporter": "python",
   "pygments_lexer": "ipython3",
   "version": "3.6.3"
  }
 },
 "nbformat": 4,
 "nbformat_minor": 2
}
